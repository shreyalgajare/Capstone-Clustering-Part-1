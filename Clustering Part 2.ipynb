{
    "nbformat_minor": 1, 
    "cells": [
        {
            "source": "## Get Co-ordinates", 
            "cell_type": "markdown", 
            "metadata": {
                "collapsed": true
            }
        }, 
        {
            "execution_count": 1, 
            "cell_type": "code", 
            "metadata": {}, 
            "outputs": [
                {
                    "output_type": "stream", 
                    "name": "stdout", 
                    "text": "Solving environment: done\n\n# All requested packages already installed.\n\n"
                }
            ], 
            "source": "!conda install -c conda-forge wikipedia\nimport wikipedia as wp\nimport pandas as pd \n\nimport requests\nimport io\n"
        }, 
        {
            "execution_count": null, 
            "cell_type": "code", 
            "metadata": {}, 
            "outputs": [], 
            "source": "html = wp.page(\"List of postal codes of Canada: M\").html().encode(\"UTF-8\")"
        }, 
        {
            "execution_count": null, 
            "cell_type": "code", 
            "metadata": {}, 
            "outputs": [], 
            "source": "# determine the index of your table\ndf = pd.read_html(html, header = 0)[0]"
        }, 
        {
            "execution_count": null, 
            "cell_type": "code", 
            "metadata": {}, 
            "outputs": [], 
            "source": "# Only process the cells that have an assigned borough. Ignore cells with a borough that is Not assigned.\ndf = df[df.Borough != 'Not assigned']"
        }, 
        {
            "execution_count": null, 
            "cell_type": "code", 
            "metadata": {}, 
            "outputs": [], 
            "source": "df = df.groupby(['Postcode', 'Borough'])['Neighbourhood'].apply(list).apply(lambda x:', '.join(x)).to_frame().reset_index()"
        }, 
        {
            "execution_count": null, 
            "cell_type": "code", 
            "metadata": {}, 
            "outputs": [], 
            "source": "for index, row in df.iterrows():\n    if row['Neighbourhood'] == 'Not assigned':\n        row['Neighbourhood'] = row['Borough']"
        }, 
        {
            "execution_count": null, 
            "cell_type": "code", 
            "metadata": {}, 
            "outputs": [], 
            "source": "# in order to utilize the Foursquare location data, we need to get the latitude and the longitude coordinates of each neighborhood.\nurl=\"http://cocl.us/Geospatial_data\"\ns=requests.get(url).content\nc=pd.read_csv(io.StringIO(s.decode('utf-8')))"
        }, 
        {
            "execution_count": null, 
            "cell_type": "code", 
            "metadata": {}, 
            "outputs": [], 
            "source": "# rename the first column to allow merging dataframes on Postcode\nc.columns = ['Postcode', 'Latitude', 'Longitude']\ndf = pd.merge(c, df, on='Postcode')\n"
        }, 
        {
            "execution_count": null, 
            "cell_type": "code", 
            "metadata": {}, 
            "outputs": [], 
            "source": "# reorder column names and show the dataframe\ndf = df[['Postcode', 'Borough', 'Neighbourhood', 'Latitude', 'Longitude']]\ndf"
        }, 
        {
            "execution_count": null, 
            "cell_type": "code", 
            "metadata": {}, 
            "outputs": [], 
            "source": ""
        }
    ], 
    "metadata": {
        "kernelspec": {
            "display_name": "Python 3.6", 
            "name": "python3", 
            "language": "python"
        }, 
        "language_info": {
            "mimetype": "text/x-python", 
            "nbconvert_exporter": "python", 
            "version": "3.6.8", 
            "name": "python", 
            "file_extension": ".py", 
            "pygments_lexer": "ipython3", 
            "codemirror_mode": {
                "version": 3, 
                "name": "ipython"
            }
        }
    }, 
    "nbformat": 4
}